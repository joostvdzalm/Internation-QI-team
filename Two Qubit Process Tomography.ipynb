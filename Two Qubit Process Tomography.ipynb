{
 "cells": [
  {
   "cell_type": "markdown",
   "metadata": {},
   "source": [
    "# Quantum Process Tomography\n",
    "\n",
    "This notebook contains our most important script: Two Qubit Process Tomography.\n",
    "\n",
    "*Contributors*: Boran Apak, Yorgos Sotiropoulos  and Joost van der Zalm (for the Quantum Information Project [AP3421]) "
   ]
  },
  {
   "cell_type": "code",
   "execution_count": 1,
   "metadata": {},
   "outputs": [],
   "source": [
    "import matplotlib.pyplot as plt\n",
    "import matplotlib.cm as cm\n",
    "import numpy as np\n",
    "import qiskit as qk\n",
    "import math\n",
    "from quantuminspire.qiskit import QI\n",
    "from quantuminspire.credentials import save_account\n",
    "from qiskit import Aer # for simulating on own pc\n",
    "save_account('7ff8243ba6d4643e4ec1774b7079f8086df7e872')\n",
    "QI.set_authentication()\n",
    "#qi_backend = QI.get_backend('QX single-node simulator') # Possible options: 'QX single-node simulator', 'Spin-2', 'Starmon-5'\n",
    "qi_backend = Aer.get_backend('qasm_simulator') # for simulating on own pc"
   ]
  },
  {
   "cell_type": "markdown",
   "metadata": {},
   "source": [
    "## Two Qubit Process Tomography for given states\n",
    " Let's see what happens if we try to feed cardinal states before the process"
   ]
  },
  {
   "cell_type": "code",
   "execution_count": 3,
   "metadata": {},
   "outputs": [],
   "source": [
    "states = [np.array([1,0]),np.array([0,1]),1/np.sqrt(2) * np.array([1,1]), \\\n",
    "          1/np.sqrt(2) * np.array([1,-1]), 1/np.sqrt(2) * np.array([1, complex(0,1)]), 1/np.sqrt(2) * np.array([1, complex(0,-1)])]\n",
    "possible_directions = ['I', 'X','Y', 'Z']\n",
    "\n",
    "pauli_x = np.array([[0,1],[1,0]]) \n",
    "pauli_y = np.array([[0,complex(0,-1)],[complex(0,1),0]]) \n",
    "pauli_z = np.array([[1,0],[0,-1]])\n",
    "\n",
    "output_expected_values = np.zeros((36, 16))\n",
    "input_expected_values = np.zeros((36, 16))\n",
    "\n",
    "k=0\n",
    "m=0                      # goes from 0 to 35\n",
    "for state1 in states:\n",
    "    l=0\n",
    "    for state2 in states:\n",
    "        i=0\n",
    "        n=0              # goes from 0 to 15\n",
    "        for direction1 in possible_directions:\n",
    "            j=0\n",
    "            \n",
    "            for direction2 in possible_directions:\n",
    "                \n",
    "                if direction1 == 'I' : \n",
    "                    input_expected_values[m,n] = 1\n",
    "                if direction1 == 'X' : \n",
    "                    input_expected_values[m,n] = np.real(np.matrix(state1).conjugate() * pauli_x * np.matrix(state1).transpose())\n",
    "                if direction1 == 'Y' : \n",
    "                    input_expected_values[m,n] = np.real(np.matrix(state1).conjugate() * pauli_y * np.matrix(state1).transpose())\n",
    "                if direction1 == 'Z' : \n",
    "                    input_expected_values[m,n] = np.real(np.matrix(state1).conjugate() * pauli_z * np.matrix(state1).transpose())\n",
    "                    \n",
    "                if direction2 == 'X' : \n",
    "                    input_expected_values[m,n] *= np.real(np.matrix(state2).conjugate() * pauli_x * np.matrix(state2).transpose())\n",
    "                if direction2 == 'Y' : \n",
    "                    input_expected_values[m,n] *= np.real(np.matrix(state2).conjugate() * pauli_y * np.matrix(state2).transpose())\n",
    "                if direction2 == 'Z' : \n",
    "                    input_expected_values[m,n] *= np.real(np.matrix(state2).conjugate() * pauli_z * np.matrix(state2).transpose())\n",
    "                \n",
    "                combined_directions = direction1 + direction2\n",
    "                if combined_directions == 'II' : # For the II case we don't need a circuit\n",
    "                    output_expected_values[m,n] = 1\n",
    "                    j += 1\n",
    "                    n += 1\n",
    "                    continue  \n",
    "                #print(\"Let's find the expectation value for the\", direction1, direction2, 'measurements')\n",
    "\n",
    "                # Define circuit\n",
    "                q = qk.QuantumRegister(2)\n",
    "                c = qk.ClassicalRegister(2)\n",
    "                circuit = qk.QuantumCircuit(q, c)\n",
    "                \n",
    "                # Do some initialization for the input states\n",
    "                circuit.initialize(state1, 0)  # Initialize the 0th qubit using a complex vector\n",
    "                circuit.initialize(state2, 1)  # Initialize the 1st qubit using a complex vector\n",
    "                    \n",
    "                # The gates for the process\n",
    "                circuit.h(q[0])\n",
    "                circuit.cx(q[0], q[1])\n",
    "\n",
    "                # Rotate to make measurements in different bases\n",
    "                if direction1 == 'X' : \n",
    "                    circuit.ry(-math.pi/2, q[0])\n",
    "                elif direction1 == 'Y' : \n",
    "                    circuit.rx(math.pi/2, q[0])\n",
    "                if direction2 == 'X' : \n",
    "                    circuit.ry(-math.pi/2, q[1])\n",
    "                elif direction2 == 'Y' : circuit.rx(math.pi/2, q[1])\n",
    "\n",
    "                if direction1 == 'I': \n",
    "                    circuit.measure(q[1], c[1]) # The first bit doesn't need to be measured\n",
    "                elif direction2 == 'I': \n",
    "                    circuit.measure(q[0], c[0]) # The second bit doesn't need to be measured\n",
    "                else : \n",
    "                    circuit.measure(q, c)    # Now we want to measure both bits\n",
    "\n",
    "                #print(circuit)  # To shorten run-time this can be left out\n",
    "\n",
    "                # Define the experiment\n",
    "                number_of_shots = 4096\n",
    "                qi_job = qk.execute(circuit, backend=qi_backend, shots=number_of_shots)\n",
    "                qi_result = qi_job.result()\n",
    "\n",
    "                # Look at the results\n",
    "                histogram = qi_result.get_counts(circuit)\n",
    "                #print('\\nState\\tCounts')  # To shorten run-time this can be left out\n",
    "\n",
    "                # Add the results to the results matrix\n",
    "                expected_value = 0\n",
    "                for state, counts in histogram.items() :\n",
    "                    #print('{0}\\t{1}'.format(state, counts))  # To shorten run-time this can be left out\n",
    "                    expected_value += (-1)**(int(state[0])+int(state[1]))*int(counts)\n",
    "\n",
    "                expected_value = expected_value / number_of_shots\n",
    "                output_expected_values[m,n] = expected_value\n",
    "                #print('For the', direction1, direction2, 'measurements, the expected value=', str(expected_value))\n",
    "                #print('\\n')\n",
    "                #print('i = ',i,'\\nj = ',j,'\\nk = ',k,'\\nl = ',l,'\\nm = ',m,'\\nn = ',n)\n",
    "                #print('--------------------------------------------\\n')\n",
    "                j += 1\n",
    "                n += 1\n",
    "            i += 1\n",
    "        l += 1\n",
    "        m += 1\n",
    "    k += 1"
   ]
  },
  {
   "cell_type": "code",
   "execution_count": 4,
   "metadata": {},
   "outputs": [
    {
     "data": {
      "image/png": "[encoded data removed]",
      "text/plain": [
       "<Figure size 432x288 with 1 Axes>"
      ]
     },
     "metadata": {
      "needs_background": "light"
     },
     "output_type": "display_data"
    }
   ],
   "source": [
    "inverse_input_matrix = np.linalg.pinv(np.matrix(input_expected_values.transpose()))\n",
    "Transfer_matrix = np.matrix(output_expected_values).transpose() * np.matrix(inverse_input_matrix)\n",
    "\n",
    "plt.imshow(Transfer_matrix, vmin=-1, vmax=1, interpolation='nearest', cmap=cm.RdBu)\n",
    "plt.show()"
   ]
  },
  {
   "cell_type": "code",
   "execution_count": 4,
   "metadata": {},
   "outputs": [],
   "source": [
    "a = np.asarray([ [1,2,3], [4,5,6], [7,8,9] ])\n",
    "a.tofile('data/foo.csv',sep=',',format='%10.5f')"
   ]
  },
  {
   "cell_type": "markdown",
   "metadata": {},
   "source": [
    "## Making our code more readable\n",
    "Below we will do exactly the same procedure but now with applying some coding practices such as functions! And recursive calls instead of nested for loops in one code block.\n",
    "\n",
    "Also while we are at it let's make it so we write code to a file and we can acquire data in batches."
   ]
  },
  {
   "cell_type": "code",
   "execution_count": 24,
   "metadata": {},
   "outputs": [
    {
     "name": "stdout",
     "output_type": "stream",
     "text": [
      "[[0. 0. 0. 0. 0. 0. 0. 0. 0. 0. 0. 0. 0. 0. 0. 0.]\n",
      " [0. 0. 0. 0. 0. 0. 0. 0. 0. 0. 0. 0. 0. 0. 0. 0.]\n",
      " [0. 0. 0. 0. 0. 0. 0. 0. 0. 0. 0. 0. 0. 0. 0. 0.]\n",
      " [0. 0. 0. 0. 0. 0. 0. 0. 0. 0. 0. 0. 0. 0. 0. 0.]\n",
      " [0. 0. 0. 0. 0. 0. 0. 0. 0. 0. 0. 0. 0. 0. 0. 0.]\n",
      " [0. 0. 0. 0. 0. 0. 0. 0. 0. 0. 0. 0. 0. 0. 0. 0.]\n",
      " [0. 0. 0. 0. 0. 0. 0. 0. 0. 0. 0. 0. 0. 0. 0. 0.]\n",
      " [0. 0. 0. 0. 0. 0. 0. 0. 0. 0. 0. 0. 0. 0. 0. 0.]\n",
      " [0. 0. 0. 0. 0. 0. 0. 0. 0. 0. 0. 0. 0. 0. 0. 0.]\n",
      " [0. 0. 0. 0. 0. 0. 0. 0. 0. 0. 0. 0. 0. 0. 0. 0.]\n",
      " [0. 0. 0. 0. 0. 0. 0. 0. 0. 0. 0. 0. 0. 0. 0. 0.]\n",
      " [0. 0. 0. 0. 0. 0. 0. 0. 0. 0. 0. 0. 0. 0. 0. 0.]\n",
      " [0. 0. 0. 0. 0. 0. 0. 0. 0. 0. 0. 0. 0. 0. 0. 0.]\n",
      " [0. 0. 0. 0. 0. 0. 0. 0. 0. 0. 0. 0. 0. 0. 0. 0.]\n",
      " [0. 0. 0. 0. 0. 0. 0. 0. 0. 0. 0. 0. 0. 0. 0. 0.]\n",
      " [0. 0. 0. 0. 0. 0. 0. 0. 0. 0. 0. 0. 0. 0. 0. 0.]]\n",
      "(16, 16)\n"
     ]
    }
   ],
   "source": [
    " class QubitProcessTomography:\n",
    "    def __init__(self, number_of_qubits):\n",
    "        self.n = number_of_qubits\n",
    "        self.pauli_transfer_matrix = np.empty((4**number_of_qubits,4**number_of_qubits))\n",
    "        self.cardinal_states = [np.array([1,0]), np.array([0,1]),\\\n",
    "                                1/np.sqrt(2) * np.array([1,1]), 1/np.sqrt(2) * np.array([1,-1]),\\\n",
    "                                1/np.sqrt(2) * np.array([1, complex(0,1)]), 1/np.sqrt(2) * np.array([1, complex(0,-1)])]\n",
    "        self.directions = ['I', 'X','Y', 'Z']\n",
    "        self.qubits = qk.QuantumRegister(n)\n",
    "        self.classical_bits = qk.ClassicalRegister(n)\n",
    "        self.circuit = qk.QuantumCircuit(q, c)\n",
    "        \n",
    "    def \n",
    "            \n",
    "q = qk.QuantumRegister(2)\n",
    "c = qk.ClassicalRegister(2)\n",
    "circuit = qk.QuantumCircuit(q, c)\n",
    "    \n",
    "QPT = QubitProcessTomography(2)       \n",
    "#pauli_transfer_matrix = np.zeros((4**2,4**2))\n",
    "print(pauli_transfer_matrix)\n",
    "print((4**2,4**2))\n",
    "#print(QPT.pauli_transfer_matrix)\n",
    "\n",
    "cardinal_states = [np.array([1,0]),np.array([0,1]),1/np.sqrt(2) * np.array([1,1]), \\\n",
    "          1/np.sqrt(2) * np.array([1,-1]), 1/np.sqrt(2) * np.array([1, complex(0,1)]), 1/np.sqrt(2) * np.array([1, complex(0,-1)])]\n",
    "\n",
    "        #self.pauli_input_vector = np.zeros((6**n, 16))\n",
    "        #self.pauli_output_vector =\n"
   ]
  },
  {
   "cell_type": "code",
   "execution_count": 26,
   "metadata": {},
   "outputs": [
    {
     "data": {
      "text/plain": [
       "16"
      ]
     },
     "execution_count": 26,
     "metadata": {},
     "output_type": "execute_result"
    }
   ],
   "source": [
    "len([1,2,3,4])**2"
   ]
  },
  {
   "cell_type": "code",
   "execution_count": null,
   "metadata": {},
   "outputs": [],
   "source": [
    "        index = 0\n",
    "        for expected_values_string in self.pauli_vector_string:\n",
    "            pos = 0\n",
    "            for char in list(expected_values_string):\n",
    "                if pos == 0:\n",
    "                    if char == 'I':\n",
    "                        pauli_input_vector[index, 0] = 1\n",
    "                    elif char == 'X':\n",
    "                        pauli_input_vector[index, 0] = np.real(\n",
    "                            qubit_states[pos].conjugate() * pauli_x * qubit_states[pos].transpose())\n",
    "                    elif char == 'Y':\n",
    "                        pauli_input_vector[index, 0] = np.real(\n",
    "                            qubit_states[pos].conjugate() * pauli_y * qubit_states[pos].transpose())\n",
    "                    elif char == 'Z':\n",
    "                        pauli_input_vector[index, 0] = np.real(\n",
    "                            qubit_states[pos].conjugate() * pauli_z * qubit_states[pos].transpose())\n",
    "                else:\n",
    "                    if char == 'X':\n",
    "                        pauli_input_vector[index, 0] = pauli_input_vector[index, 0] * np.real(\n",
    "                            qubit_states[pos].conjugate() * pauli_x * qubit_states[pos].transpose())\n",
    "                    elif char == 'Y':\n",
    "                        pauli_input_vector[index, 0] = pauli_input_vector[index, 0] * np.real(\n",
    "                            qubit_states[pos].conjugate() * pauli_y * qubit_states[pos].transpose())\n",
    "                    elif char == 'Z':\n",
    "                        pauli_input_vector[index, 0] = pauli_input_vector[index, 0] * np.real(\n",
    "                            qubit_states[pos].conjugate() * pauli_z * qubit_states[pos].transpose())\n",
    "                pos += 1\n",
    "            index += 1\n",
    "\n",
    "        return pauli_input_vector[:, 0]"
   ]
  }
 ],
 "metadata": {
  "kernelspec": {
   "display_name": "Python 3",
   "language": "python",
   "name": "python3"
  },
  "language_info": {
   "codemirror_mode": {
    "name": "ipython",
    "version": 3
   },
   "file_extension": ".py",
   "mimetype": "text/x-python",
   "name": "python",
   "nbconvert_exporter": "python",
   "pygments_lexer": "ipython3",
   "version": "3.8.3"
  }
 },
 "nbformat": 4,
 "nbformat_minor": 4
}
