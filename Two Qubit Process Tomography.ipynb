{
 "cells": [
  {
   "cell_type": "markdown",
   "metadata": {},
   "source": [
    "# Quantum Process Tomography\n",
    "\n",
    "This notebook contains our most important script: Two Qubit Process Tomography.\n",
    "\n",
    "*Contributors*: Boran Apak, Yorgos Sotiropoulos  and Joost van der Zalm (for the Quantum Information Project [AP3421]) "
   ]
  },
  {
   "cell_type": "code",
   "execution_count": null,
   "metadata": {},
   "outputs": [],
   "source": [
    "import matplotlib.pyplot as plt\n",
    "import matplotlib.cm as cm\n",
    "import numpy as np\n",
    "import qiskit as qk\n",
    "import math\n",
    "from quantuminspire.qiskit import QI\n",
    "from quantuminspire.credentials import save_account\n",
    "save_account('7ff8243ba6d4643e4ec1774b7079f8086df7e872')\n",
    "QI.set_authentication()\n",
    "qi_backend = QI.get_backend('QX single-node simulator') # Possible options: 'QX single-node simulator', 'Spin-2', 'Starmon-5'"
   ]
  },
  {
   "cell_type": "markdown",
   "metadata": {},
   "source": [
    "## Two Qubit Process Tomography for given states\n",
    " Let's see what happens if we try to feed cardinal states before the process"
   ]
  },
  {
   "cell_type": "code",
   "execution_count": null,
   "metadata": {},
   "outputs": [],
   "source": [
    "states = [np.array([1,0]),np.array([0,1]),1/np.sqrt(2) * np.array([1,1]), \\\n",
    "          1/np.sqrt(2) * np.array([1,-1]), 1/np.sqrt(2) * np.array([1, complex(0,1)]), 1/np.sqrt(2) * np.array([1, complex(0,-1)])]\n",
    "possible_directions = ['I', 'X','Y', 'Z']\n",
    "\n",
    "pauli_x = np.array([[0,1],[1,0]]) \n",
    "pauli_y = np.array([[0,complex(0,-1)],[complex(0,1),0]]) \n",
    "pauli_z = np.array([[1,0],[0,-1]])\n",
    "\n",
    "#output_expected_values = np.zeros((36, 16))\n",
    "#input_expected_values = np.zeros((36, 16))\n",
    "\n",
    "k=0\n",
    "m=0                      # goes from 0 to 35\n",
    "for state1 in states:\n",
    "    l=0\n",
    "    for state2 in states:\n",
    "        i=0\n",
    "        n=0              # goes from 0 to 15\n",
    "        for direction1 in possible_directions:\n",
    "            j=0\n",
    "            \n",
    "            for direction2 in possible_directions:\n",
    "                \n",
    "                if direction1 == 'I' : \n",
    "                    input_expected_values[m,n] = 1\n",
    "                if direction1 == 'X' : \n",
    "                    input_expected_values[m,n] = np.real(np.matrix(state1).conjugate() * pauli_x * np.matrix(state1).transpose())\n",
    "                if direction1 == 'Y' : \n",
    "                    input_expected_values[m,n] = np.real(np.matrix(state1).conjugate() * pauli_y * np.matrix(state1).transpose())\n",
    "                if direction1 == 'Z' : \n",
    "                    input_expected_values[m,n] = np.real(np.matrix(state1).conjugate() * pauli_z * np.matrix(state1).transpose())\n",
    "                    \n",
    "                if direction2 == 'X' : \n",
    "                    input_expected_values[m,n] *= np.real(np.matrix(state2).conjugate() * pauli_x * np.matrix(state2).transpose())\n",
    "                if direction2 == 'Y' : \n",
    "                    input_expected_values[m,n] *= np.real(np.matrix(state2).conjugate() * pauli_y * np.matrix(state2).transpose())\n",
    "                if direction2 == 'Z' : \n",
    "                    input_expected_values[m,n] *= np.real(np.matrix(state2).conjugate() * pauli_z * np.matrix(state2).transpose())\n",
    "                \n",
    "                combined_directions = direction1 + direction2\n",
    "                if combined_directions == 'II' : # For the II case we don't need a circuit\n",
    "                    output_expected_values[m,n] = 1\n",
    "                    j += 1\n",
    "                    n += 1\n",
    "                    continue  \n",
    "                #print(\"Let's find the expectation value for the\", direction1, direction2, 'measurements')\n",
    "\n",
    "                # Define circuit\n",
    "                q = qk.QuantumRegister(2)\n",
    "                c = qk.ClassicalRegister(2)\n",
    "                circuit = qk.QuantumCircuit(q, c)\n",
    "                \n",
    "                # Do some initialization for the input states\n",
    "                circuit.initialize(state1, 0)  # Initialize the 0th qubit using a complex vector\n",
    "                circuit.initialize(state2, 1)  # Initialize the 1st qubit using a complex vector\n",
    "                    \n",
    "                # The gates for the process\n",
    "                circuit.h(q[0])\n",
    "                circuit.cx(q[0], q[1])\n",
    "\n",
    "                # Rotate to make measurements in different bases\n",
    "                if direction1 == 'X' : \n",
    "                    circuit.ry(-math.pi/2, q[0])\n",
    "                elif direction1 == 'Y' : \n",
    "                    circuit.rx(math.pi/2, q[0])\n",
    "                if direction2 == 'X' : \n",
    "                    circuit.ry(-math.pi/2, q[1])\n",
    "                elif direction2 == 'Y' : circuit.rx(math.pi/2, q[1])\n",
    "\n",
    "                if direction1 == 'I': \n",
    "                    circuit.measure(q[1], c[1]) # The first bit doesn't need to be measured\n",
    "                elif direction2 == 'I': \n",
    "                    circuit.measure(q[0], c[0]) # The second bit doesn't need to be measured\n",
    "                else : \n",
    "                    circuit.measure(q, c)    # Now we want to measure both bits\n",
    "\n",
    "                #print(circuit)  # To shorten run-time this can be left out\n",
    "\n",
    "                # Define the experiment\n",
    "                number_of_shots = 4096\n",
    "                qi_job = qk.execute(circuit, backend=qi_backend, shots=number_of_shots)\n",
    "                qi_result = qi_job.result()\n",
    "\n",
    "                # Look at the results\n",
    "                histogram = qi_result.get_counts(circuit)\n",
    "                #print('\\nState\\tCounts')  # To shorten run-time this can be left out\n",
    "\n",
    "                # Add the results to the results matrix\n",
    "                expected_value = 0\n",
    "                for state, counts in histogram.items() :\n",
    "                    #print('{0}\\t{1}'.format(state, counts))  # To shorten run-time this can be left out\n",
    "                    expected_value += (-1)**(int(state[0])+int(state[1]))*int(counts)\n",
    "\n",
    "                expected_value = expected_value / number_of_shots\n",
    "                output_expected_values[m,n] = expected_value\n",
    "                #print('For the', direction1, direction2, 'measurements, the expected value=', str(expected_value))\n",
    "                #print('\\n')\n",
    "                print('i = ',i,'\\nj = ',j,'\\nk = ',k,'\\nl = ',l,'\\nm = ',m,'\\nn = ',n)\n",
    "                print('--------------------------------------------\\n')\n",
    "                j += 1\n",
    "                n += 1\n",
    "            i += 1\n",
    "        l += 1\n",
    "        m += 1\n",
    "    k += 1"
   ]
  },
  {
   "cell_type": "code",
   "execution_count": 1,
   "metadata": {},
   "outputs": [
    {
     "ename": "NameError",
     "evalue": "name 'np' is not defined",
     "output_type": "error",
     "traceback": [
      "\u001b[1;31m---------------------------------------------------------------------------\u001b[0m",
      "\u001b[1;31mNameError\u001b[0m                                 Traceback (most recent call last)",
      "\u001b[1;32m<ipython-input-1-0c1ad2c57129>\u001b[0m in \u001b[0;36m<module>\u001b[1;34m\u001b[0m\n\u001b[1;32m----> 1\u001b[1;33m \u001b[0minverse_input_matrix\u001b[0m \u001b[1;33m=\u001b[0m \u001b[0mnp\u001b[0m\u001b[1;33m.\u001b[0m\u001b[0mlinalg\u001b[0m\u001b[1;33m.\u001b[0m\u001b[0mpinv\u001b[0m\u001b[1;33m(\u001b[0m\u001b[0mnp\u001b[0m\u001b[1;33m.\u001b[0m\u001b[0mmatrix\u001b[0m\u001b[1;33m(\u001b[0m\u001b[0minput_expected_values\u001b[0m\u001b[1;33m.\u001b[0m\u001b[0mtranspose\u001b[0m\u001b[1;33m(\u001b[0m\u001b[1;33m)\u001b[0m\u001b[1;33m)\u001b[0m\u001b[1;33m)\u001b[0m\u001b[1;33m\u001b[0m\u001b[1;33m\u001b[0m\u001b[0m\n\u001b[0m\u001b[0;32m      2\u001b[0m \u001b[0mTransfer_matrix\u001b[0m \u001b[1;33m=\u001b[0m \u001b[0mnp\u001b[0m\u001b[1;33m.\u001b[0m\u001b[0mmatrix\u001b[0m\u001b[1;33m(\u001b[0m\u001b[0moutput_expected_values\u001b[0m\u001b[1;33m)\u001b[0m\u001b[1;33m.\u001b[0m\u001b[0mtranspose\u001b[0m\u001b[1;33m(\u001b[0m\u001b[1;33m)\u001b[0m \u001b[1;33m*\u001b[0m \u001b[0mnp\u001b[0m\u001b[1;33m.\u001b[0m\u001b[0mmatrix\u001b[0m\u001b[1;33m(\u001b[0m\u001b[0minverse_input_matrix\u001b[0m\u001b[1;33m)\u001b[0m\u001b[1;33m\u001b[0m\u001b[1;33m\u001b[0m\u001b[0m\n\u001b[0;32m      3\u001b[0m \u001b[1;33m\u001b[0m\u001b[0m\n\u001b[0;32m      4\u001b[0m \u001b[0mplt\u001b[0m\u001b[1;33m.\u001b[0m\u001b[0mimshow\u001b[0m\u001b[1;33m(\u001b[0m\u001b[0mTransfer_matrix\u001b[0m\u001b[1;33m,\u001b[0m \u001b[0mvmin\u001b[0m\u001b[1;33m=\u001b[0m\u001b[1;33m-\u001b[0m\u001b[1;36m1\u001b[0m\u001b[1;33m,\u001b[0m \u001b[0mvmax\u001b[0m\u001b[1;33m=\u001b[0m\u001b[1;36m1\u001b[0m\u001b[1;33m,\u001b[0m \u001b[0minterpolation\u001b[0m\u001b[1;33m=\u001b[0m\u001b[1;34m'nearest'\u001b[0m\u001b[1;33m,\u001b[0m \u001b[0mcmap\u001b[0m\u001b[1;33m=\u001b[0m\u001b[0mcm\u001b[0m\u001b[1;33m.\u001b[0m\u001b[0mRdBu\u001b[0m\u001b[1;33m)\u001b[0m\u001b[1;33m\u001b[0m\u001b[1;33m\u001b[0m\u001b[0m\n\u001b[0;32m      5\u001b[0m \u001b[0mplt\u001b[0m\u001b[1;33m.\u001b[0m\u001b[0mshow\u001b[0m\u001b[1;33m(\u001b[0m\u001b[1;33m)\u001b[0m\u001b[1;33m\u001b[0m\u001b[1;33m\u001b[0m\u001b[0m\n",
      "\u001b[1;31mNameError\u001b[0m: name 'np' is not defined"
     ]
    }
   ],
   "source": [
    "inverse_input_matrix = np.linalg.pinv(np.matrix(input_expected_values.transpose()))\n",
    "Transfer_matrix = np.matrix(output_expected_values).transpose() * np.matrix(inverse_input_matrix)\n",
    "\n",
    "plt.imshow(Transfer_matrix, vmin=-1, vmax=1, interpolation='nearest', cmap=cm.RdBu)\n",
    "plt.show()"
   ]
  },
  {
   "cell_type": "code",
   "execution_count": null,
   "metadata": {},
   "outputs": [],
   "source": []
  }
 ],
 "metadata": {
  "kernelspec": {
   "display_name": "Python 3",
   "language": "python",
   "name": "python3"
  },
  "language_info": {
   "codemirror_mode": {
    "name": "ipython",
    "version": 3
   },
   "file_extension": ".py",
   "mimetype": "text/x-python",
   "name": "python",
   "nbconvert_exporter": "python",
   "pygments_lexer": "ipython3",
   "version": "3.8.3"
  }
 },
 "nbformat": 4,
 "nbformat_minor": 4
}
