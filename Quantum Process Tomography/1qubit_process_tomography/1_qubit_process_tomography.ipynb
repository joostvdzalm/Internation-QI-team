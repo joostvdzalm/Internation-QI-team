{
 "cells": [
  {
   "cell_type": "code",
   "execution_count": 1,
   "metadata": {},
   "outputs": [],
   "source": [
    "import numpy as np\n",
    "import qiskit as qk\n",
    "import math\n",
    "from qiskit import Aer\n",
    "import os\n",
    "\n",
    "\n",
    "from calibration_functions import *  \n",
    "# Functions:\n",
    "# get_readout_err(experimental_backend, number_of_shots)      find calibrating matrix B \n",
    "# calibrate_readout_err(exper_expect_val , B)       find calibrated exp_value vector\n",
    "\n",
    "from transfer_matrix_tools import *\n",
    "# Functions:\n",
    "# calculate_gate_fidelity(n, Transfer_matrix_ideal,Transfer_matrix)     n=number f qubits\n",
    "# calculate_transfer_matrix(input_expected_values,output_expected_values)\n",
    "# plot_transfer_matrix(Transfer_matrix)\n",
    "\n",
    "from theoretical_tools import *\n",
    "# Functions:\n",
    "# exp_value_braket(statevector,operator)\n",
    "\n",
    "from backend_tools import *\n",
    "# Functions:\n",
    "# IBM_backend('ibm_backend')\n",
    "# QI_backend('qi_backend' )\n",
    "# simulator_backend()\n",
    "# noisy_simulator_backend()"
   ]
  },
  {
   "cell_type": "code",
   "execution_count": 4,
   "metadata": {},
   "outputs": [],
   "source": [
    "#BACKEND AND NUMBER OF SHOTS\n",
    "\n",
    "experimental_backend = noisy_simulator_backend()\n",
    "number_of_shots = 8192\n",
    "experiment_name='rx_pi_3_simulation'"
   ]
  },
  {
   "cell_type": "code",
   "execution_count": 5,
   "metadata": {},
   "outputs": [
    {
     "output_type": "stream",
     "name": "stdout",
     "text": [
      "Calibration has begun.\n",
      "\n",
      "Calibration done!\n",
      "\n",
      " m =  0  n =  0\n",
      " m =  0  n =  1\n",
      " m =  0  n =  2\n",
      " m =  1  n =  0\n",
      " m =  1  n =  1\n",
      " m =  1  n =  2\n",
      " m =  2  n =  0\n",
      " m =  2  n =  1\n",
      " m =  2  n =  2\n",
      " m =  3  n =  0\n",
      " m =  3  n =  1\n",
      " m =  3  n =  2\n",
      " m =  4  n =  0\n",
      " m =  4  n =  1\n",
      " m =  4  n =  2\n",
      " m =  5  n =  0\n",
      " m =  5  n =  1\n",
      " m =  5  n =  2\n",
      "Experiment Completed!\n"
     ]
    }
   ],
   "source": [
    "states = [np.array([1,0]),np.array([0,1]),1/np.sqrt(2) * np.array([1,1]), \\\n",
    "          1/np.sqrt(2) * np.array([1,-1]), 1/np.sqrt(2) * np.array([1, complex(0,1)]), 1/np.sqrt(2) * np.array([1, complex(0,-1)])]\n",
    "possible_directions = ['I', 'X','Y', 'Z']\n",
    "\n",
    "\n",
    "experiment_directory=os.path.join('data_collected', experiment_name)\n",
    "\n",
    "#if the folder does not exist, create it\n",
    "if not os.path.exists(experiment_directory):\n",
    "    os.makedirs(experiment_directory)\n",
    "\n",
    "\n",
    "#PAULI GATES\n",
    "pauli_g=np.zeros((4,2,2),dtype = np.complex_)\n",
    "pauli_g[0] = np.array([[1,0],[0,1]]) \n",
    "pauli_g[1] = np.array([[0,1],[1,0]]) \n",
    "pauli_g[2] = np.array([[0,complex(0,-1)],[complex(0,1),0]]) \n",
    "pauli_g[3] = np.array([[1,0],[0,-1]])\n",
    "\n",
    "sv_backend = Aer.get_backend('statevector_simulator') #statevector for theoretical transfer matrix\n",
    "\n",
    "\n",
    "#get calibration data\n",
    "\n",
    "B=get_readout_err(experimental_backend, 8192)\n",
    "\n",
    "np.save( os.path.join(experiment_directory, 'B'), B )\n",
    "\n",
    "\n",
    "\n",
    "sv_expected_values=np.zeros((6, 4))\n",
    "precalibration_exp_values=np.zeros((6, 4))\n",
    "output_expected_values = np.zeros((6, 4))\n",
    "input_expected_values = np.zeros((6, 4))\n",
    "\n",
    "\n",
    "m=0                      # goes from 0 to 6 (6 cardinal states)\n",
    "for state1 in states:\n",
    "    d1d2=0           #   \n",
    "    n=0              #  \n",
    "    d2=0             #direction 2  (the only direction) numbering\n",
    "    for direction2 in possible_directions:\n",
    "        \n",
    "        \n",
    "        input_state_vector=state1\n",
    "        \n",
    "        input_expected_values[m,d1d2]=  exp_value_braket(input_state_vector, pauli_g[d2] )    # <'Direction2' 'Direction1'> =  <bra| D2D1_matrix   |ket> \n",
    "    \n",
    "\n",
    "        \n",
    "\n",
    "        if direction2 == 'I' : # For the I case we don't need a circuit\n",
    "            output_expected_values[m,0] = 1\n",
    "            precalibration_exp_values[m,0] = 1\n",
    "            sv_expected_values[m,0]=1\n",
    "            d2+=1\n",
    "            d1d2+=1\n",
    "            continue  \n",
    "        #print(\"Let's find the expectation value for the\", direction1, direction2, 'measurements')\n",
    "        \n",
    "        # Define circuit\n",
    "        q = qk.QuantumRegister(1)\n",
    "        c = qk.ClassicalRegister(1)\n",
    "        circuit = qk.QuantumCircuit(q, c)\n",
    "        \n",
    "        # Do some initialization for the input states\n",
    "        circuit.initialize(state1, 0)  # Initialize the 0th qubit using a complex vector\n",
    "            \n",
    "\n",
    "                   #INPUT PROCESS\n",
    "                        \n",
    "        # The gates for the process\n",
    "        \n",
    "        circuit.rx(math.pi/3,q[0])\n",
    "\n",
    "\n",
    "\n",
    "        ## statevector simulator for theoretical output    \n",
    "        sv_job = qk.execute(circuit, sv_backend)\n",
    "        sv_result = sv_job.result()\n",
    "        sv_output = sv_result.get_statevector(circuit, decimals=3)\n",
    "\n",
    "        sv_expected_values[m,d1d2]  =  exp_value_braket(sv_output, pauli_g[d2] ) \n",
    "\n",
    "\n",
    "        d1d2+=1  #iterating d1d2 used for theoretical exp values\n",
    "        \n",
    "\n",
    "\n",
    "        #EXPERIMENT ON THE BACKEND FROM NOW ON\n",
    "\n",
    "        # Rotate to make measurements in different bases // go on to experiment only if neither direction is I \n",
    "\n",
    "\n",
    "        if direction2 == 'X' : \n",
    "            circuit.ry(-math.pi/2, q[0])\n",
    "        elif direction2 == 'Y' : \n",
    "            circuit.rx(math.pi/2, q[0])\n",
    "\n",
    "\n",
    "        circuit.measure(q, c)    # Measure both bits\n",
    "\n",
    "        # Define the experiment\n",
    "\n",
    "\n",
    "        experimental_job = qk.execute(circuit, backend=experimental_backend, shots=number_of_shots)\n",
    "        experimental_result = experimental_job.result()\n",
    "\n",
    "        # Look at the results\n",
    "        histogram = experimental_result.get_counts(circuit)\n",
    "        \n",
    "        # Add the results to the results matrix\n",
    "        expected_value=0\n",
    "        for state, counts in histogram.items() :           \n",
    "            expected_value += (-1)**(int(state[0]))*int(counts)    #corresponds to ZI               \n",
    "\n",
    "\n",
    "        expected_value = expected_value / number_of_shots\n",
    "\n",
    "        calibrated_exp_val=calibrate_readout_err(expected_value,B)\n",
    "    \n",
    "\n",
    "\n",
    "        ## Calculation of <U>  \n",
    "        output_expected_values[ m ,d2] = calibrated_exp_val\n",
    "        precalibration_exp_values[ m ,d2] = expected_value\n",
    "        \n",
    "\n",
    "\n",
    "        #save data\n",
    "        np.save(os.path.join(experiment_directory, 'output_expected_values')     ,output_expected_values)\n",
    "        np.save(os.path.join(experiment_directory, 'precalibration_exp_values')  ,precalibration_exp_values)\n",
    "        np.save(os.path.join(experiment_directory, 'sv_expected_values' )        ,sv_expected_values)\n",
    "        np.save(os.path.join(experiment_directory, 'input_expected_values')      ,input_expected_values)\n",
    "\n",
    "        print(' m = ',m,' n = ',n)\n",
    "        n += 1\n",
    "        d2+=1\n",
    "\n",
    "    m += 1\n",
    "\n",
    "print('Experiment Completed!')"
   ]
  },
  {
   "cell_type": "code",
   "execution_count": 6,
   "metadata": {},
   "outputs": [],
   "source": [
    "#ACCESS DATA AND GET RESULTS\n",
    "\n",
    "\n",
    "experiment_name='identity_simulation' #  INPUT EXPERIMENTAL IDENTITY\n",
    "experiment_directory=os.path.join('data_collected', experiment_name)\n",
    "exp_input_expected_values= np.load(os.path.join(experiment_directory, 'output_expected_values.npy') )\n",
    "\n",
    "experiment_name='rx_pi_3_simulation'  #  EXPERIMENTAL OUTPUT\n",
    "experiment_directory=os.path.join('data_collected', experiment_name)\n",
    "B                    =np.load(os.path.join(experiment_directory, 'B.npy') ) \n",
    "input_expected_values=np.load(os.path.join(experiment_directory, 'input_expected_values.npy') )\n",
    "precalibration_exp_values=np.load(os.path.join(experiment_directory, 'precalibration_exp_values.npy') )\n",
    "sv_expected_values=np.load(os.path.join(experiment_directory, 'sv_expected_values.npy') )\n",
    "output_expected_values=np.load(os.path.join(experiment_directory, 'output_expected_values.npy') )\n",
    "\n",
    "\n",
    "\n",
    "th_transfer_matrix = calculate_transfer_matrix( input_expected_values, sv_expected_values ) \n",
    "exp_transfer_matrix = calculate_transfer_matrix( input_expected_values, output_expected_values )  #experimental output with ideal input\n",
    "\n",
    "exp_inp_transfer_matrix = calculate_transfer_matrix( exp_input_expected_values , output_expected_values )  #experimental output with experimental input"
   ]
  },
  {
   "cell_type": "code",
   "execution_count": 13,
   "metadata": {},
   "outputs": [
    {
     "output_type": "execute_result",
     "data": {
      "text/plain": [
       "1.001196538577821"
      ]
     },
     "metadata": {},
     "execution_count": 13
    }
   ],
   "source": [
    "#average gate fidelity\n",
    "calculate_gate_fidelity(1, th_transfer_matrix , exp_inp_transfer_matrix)"
   ]
  },
  {
   "cell_type": "code",
   "execution_count": 14,
   "metadata": {},
   "outputs": [
    {
     "output_type": "execute_result",
     "data": {
      "text/plain": [
       "0.003321429412814527"
      ]
     },
     "metadata": {},
     "execution_count": 14
    }
   ],
   "source": [
    "#error through bootstrapping\n",
    "get_bootstrap_standard_error(1 , 8192 , 1000 , input_expected_values , output_expected_values , sv_expected_values,exp_input_expected_values)"
   ]
  },
  {
   "cell_type": "code",
   "execution_count": 15,
   "metadata": {},
   "outputs": [
    {
     "output_type": "display_data",
     "data": {
      "text/plain": "<Figure size 432x288 with 1 Axes>",
      "image/svg+xml": "<?xml version=\"1.0\" encoding=\"utf-8\" standalone=\"no\"?>\r\n<!DOCTYPE svg PUBLIC \"-//W3C//DTD SVG 1.1//EN\"\r\n  \"http://www.w3.org/Graphics/SVG/1.1/DTD/svg11.dtd\">\r\n<!-- Created with matplotlib (https://matplotlib.org/) -->\r\n<svg height=\"263.63625pt\" version=\"1.1\" viewBox=\"0 0 245.69 263.63625\" width=\"245.69pt\" xmlns=\"http://www.w3.org/2000/svg\" xmlns:xlink=\"http://www.w3.org/1999/xlink\">\r\n <metadata>\r\n  <rdf:RDF xmlns:cc=\"http://creativecommons.org/ns#\" xmlns:dc=\"http://purl.org/dc/elements/1.1/\" xmlns:rdf=\"http://www.w3.org/1999/02/22-rdf-syntax-ns#\">\r\n   <cc:Work>\r\n    <dc:type rdf:resource=\"http://purl.org/dc/dcmitype/StillImage\"/>\r\n    <dc:date>2021-01-22T15:00:47.062131</dc:date>\r\n    <dc:format>image/svg+xml</dc:format>\r\n    <dc:creator>\r\n     <cc:Agent>\r\n      <dc:title>Matplotlib v3.3.2, https://matplotlib.org/</dc:title>\r\n     </cc:Agent>\r\n    </dc:creator>\r\n   </cc:Work>\r\n  </rdf:RDF>\r\n </metadata>\r\n <defs>\r\n  <style type=\"text/css\">*{stroke-linecap:butt;stroke-linejoin:round;}</style>\r\n </defs>\r\n <g id=\"figure_1\">\r\n  <g id=\"patch_1\">\r\n   <path d=\"M 0 263.63625 \r\nL 245.69 263.63625 \r\nL 245.69 0 \r\nL 0 0 \r\nz\r\n\" style=\"fill:none;\"/>\r\n  </g>\r\n  <g id=\"axes_1\">\r\n   <g id=\"patch_2\">\r\n    <path d=\"M 21.05 239.758125 \r\nL 238.49 239.758125 \r\nL 238.49 22.318125 \r\nL 21.05 22.318125 \r\nz\r\n\" style=\"fill:#ffffff;\"/>\r\n   </g>\r\n   <g clip-path=\"url(#p177be42f16)\">\r\n    <image height=\"218\" id=\"image067dff7354\" transform=\"scale(1 -1)translate(0 -218)\" width=\"218\" x=\"21.05\" xlink:href=\"data:image/png;base64,\r\niVBORw0KGgoAAAANSUhEUgAAANoAAADaCAYAAADAHVzbAAAC3UlEQVR4nO3VsU1DMQBF0QRBzQzUNNS02SEFUgpEyTwRG2UfKD4VhALEBr5Gn3MmeJZ87e37spw3K/SxylN9u3l4mT1hiP1hN3vCMBezB8B/IDQICA0CQoOA0CAgNAgIDQJCg4DQICA0CAgNAkKDgNAgIDQICA0CQoOA0CAgNAgIDQJCg4DQICA0CAgNAkKDgNAgIDQICA0CQoOA0CAgNAgIDQJCg4DQICA0CAgNAkKDgNAgIDQICA0CQoOA0CAgNAgIDQJCg4DQICA0CAgNAkKDgNAgIDQICA0CQoOA0CAgNAhcbs6fszcMst43ZH/YzZ4wxO3TfvaEYdZ7G+EPERoEhAYBoUFAaBAQGgSEBgGhQUBoEBAaBIQGAaFBQGgQEBoEhAYBoUFAaBAQGgSEBgGhQUBoEBAaBIQGAaFBQGgQEBoEhAYBoUFAaBAQGgSEBgGhQUBoEBAaBIQGAaFBQGgQEBoEhAYBoUFAaBAQGgSEBgGhQUBoEBAaBIQGAaFBQGgQEBoEhAYBoUFAaBDYLstynj1ihOv759kThnk7HWdPGGKVF/GHHw0CQoOA0CAgNAgIDQJCg4DQICA0CAgNAkKDgNAgIDQICA0CQoOA0CAgNAgIDQJCg4DQICA0CAgNAkKDgNAgIDQICA0CQoOA0CAgNAgIDQJCg4DQICA0CAgNAkKDgNAgIDQICA0CQoOA0CAgNAgIDQJCg4DQICA0CAgNAkKDgNAgIDQICA0CQoOA0CAgNAgIDQJCg8D26u7xPHvECK+n4+wJ8MuPBgGhQUBoEBAaBIQGAaFBQGgQEBoEhAYBoUFAaBAQGgSEBgGhQUBoEBAaBIQGAaFBQGgQEBoEhAYBoUFAaBAQGgSEBgGhQUBoEBAaBIQGAaFBQGgQEBoEhAYBoUFAaBAQGgSEBgGhQUBoEBAaBIQGAaFBQGgQEBoEhAYBoUFAaBAQGgSEBgGhQUBoEBAaBIQGgS9j5xk10J01JwAAAABJRU5ErkJggg==\" y=\"-21.758125\"/>\r\n   </g>\r\n   <g id=\"matplotlib.axis_1\">\r\n    <g id=\"xtick_1\">\r\n     <g id=\"line2d_1\">\r\n      <defs>\r\n       <path d=\"M 0 0 \r\nL 0 3.5 \r\n\" id=\"mab1ccdfda5\" style=\"stroke:#000000;stroke-width:0.8;\"/>\r\n      </defs>\r\n      <g>\r\n       <use style=\"stroke:#000000;stroke-width:0.8;\" x=\"48.23\" xlink:href=\"#mab1ccdfda5\" y=\"239.758125\"/>\r\n      </g>\r\n     </g>\r\n     <g id=\"text_1\">\r\n      <!-- I -->\r\n      <g transform=\"translate(46.755 254.356563)scale(0.1 -0.1)\">\r\n       <defs>\r\n        <path d=\"M 9.8125 72.90625 \r\nL 19.671875 72.90625 \r\nL 19.671875 0 \r\nL 9.8125 0 \r\nz\r\n\" id=\"DejaVuSans-73\"/>\r\n       </defs>\r\n       <use xlink:href=\"#DejaVuSans-73\"/>\r\n      </g>\r\n     </g>\r\n    </g>\r\n    <g id=\"xtick_2\">\r\n     <g id=\"line2d_2\">\r\n      <g>\r\n       <use style=\"stroke:#000000;stroke-width:0.8;\" x=\"102.59\" xlink:href=\"#mab1ccdfda5\" y=\"239.758125\"/>\r\n      </g>\r\n     </g>\r\n     <g id=\"text_2\">\r\n      <!-- X -->\r\n      <g transform=\"translate(99.165 254.356563)scale(0.1 -0.1)\">\r\n       <defs>\r\n        <path d=\"M 6.296875 72.90625 \r\nL 16.890625 72.90625 \r\nL 35.015625 45.796875 \r\nL 53.21875 72.90625 \r\nL 63.8125 72.90625 \r\nL 40.375 37.890625 \r\nL 65.375 0 \r\nL 54.78125 0 \r\nL 34.28125 31 \r\nL 13.625 0 \r\nL 2.984375 0 \r\nL 29 38.921875 \r\nz\r\n\" id=\"DejaVuSans-88\"/>\r\n       </defs>\r\n       <use xlink:href=\"#DejaVuSans-88\"/>\r\n      </g>\r\n     </g>\r\n    </g>\r\n    <g id=\"xtick_3\">\r\n     <g id=\"line2d_3\">\r\n      <g>\r\n       <use style=\"stroke:#000000;stroke-width:0.8;\" x=\"156.95\" xlink:href=\"#mab1ccdfda5\" y=\"239.758125\"/>\r\n      </g>\r\n     </g>\r\n     <g id=\"text_3\">\r\n      <!-- Y -->\r\n      <g transform=\"translate(153.896094 254.356563)scale(0.1 -0.1)\">\r\n       <defs>\r\n        <path d=\"M -0.203125 72.90625 \r\nL 10.40625 72.90625 \r\nL 30.609375 42.921875 \r\nL 50.6875 72.90625 \r\nL 61.28125 72.90625 \r\nL 35.5 34.71875 \r\nL 35.5 0 \r\nL 25.59375 0 \r\nL 25.59375 34.71875 \r\nz\r\n\" id=\"DejaVuSans-89\"/>\r\n       </defs>\r\n       <use xlink:href=\"#DejaVuSans-89\"/>\r\n      </g>\r\n     </g>\r\n    </g>\r\n    <g id=\"xtick_4\">\r\n     <g id=\"line2d_4\">\r\n      <g>\r\n       <use style=\"stroke:#000000;stroke-width:0.8;\" x=\"211.31\" xlink:href=\"#mab1ccdfda5\" y=\"239.758125\"/>\r\n      </g>\r\n     </g>\r\n     <g id=\"text_4\">\r\n      <!-- Z -->\r\n      <g transform=\"translate(207.885 254.356563)scale(0.1 -0.1)\">\r\n       <defs>\r\n        <path d=\"M 5.609375 72.90625 \r\nL 62.890625 72.90625 \r\nL 62.890625 65.375 \r\nL 16.796875 8.296875 \r\nL 64.015625 8.296875 \r\nL 64.015625 0 \r\nL 4.5 0 \r\nL 4.5 7.515625 \r\nL 50.59375 64.59375 \r\nL 5.609375 64.59375 \r\nz\r\n\" id=\"DejaVuSans-90\"/>\r\n       </defs>\r\n       <use xlink:href=\"#DejaVuSans-90\"/>\r\n      </g>\r\n     </g>\r\n    </g>\r\n   </g>\r\n   <g id=\"matplotlib.axis_2\">\r\n    <g id=\"ytick_1\">\r\n     <g id=\"line2d_5\">\r\n      <defs>\r\n       <path d=\"M 0 0 \r\nL -3.5 0 \r\n\" id=\"m3d76b878c2\" style=\"stroke:#000000;stroke-width:0.8;\"/>\r\n      </defs>\r\n      <g>\r\n       <use style=\"stroke:#000000;stroke-width:0.8;\" x=\"21.05\" xlink:href=\"#m3d76b878c2\" y=\"49.498125\"/>\r\n      </g>\r\n     </g>\r\n     <g id=\"text_5\">\r\n      <!-- I -->\r\n      <g transform=\"translate(11.1 53.297344)scale(0.1 -0.1)\">\r\n       <use xlink:href=\"#DejaVuSans-73\"/>\r\n      </g>\r\n     </g>\r\n    </g>\r\n    <g id=\"ytick_2\">\r\n     <g id=\"line2d_6\">\r\n      <g>\r\n       <use style=\"stroke:#000000;stroke-width:0.8;\" x=\"21.05\" xlink:href=\"#m3d76b878c2\" y=\"103.858125\"/>\r\n      </g>\r\n     </g>\r\n     <g id=\"text_6\">\r\n      <!-- X -->\r\n      <g transform=\"translate(7.2 107.657344)scale(0.1 -0.1)\">\r\n       <use xlink:href=\"#DejaVuSans-88\"/>\r\n      </g>\r\n     </g>\r\n    </g>\r\n    <g id=\"ytick_3\">\r\n     <g id=\"line2d_7\">\r\n      <g>\r\n       <use style=\"stroke:#000000;stroke-width:0.8;\" x=\"21.05\" xlink:href=\"#m3d76b878c2\" y=\"158.218125\"/>\r\n      </g>\r\n     </g>\r\n     <g id=\"text_7\">\r\n      <!-- Y -->\r\n      <g transform=\"translate(7.942188 162.017344)scale(0.1 -0.1)\">\r\n       <use xlink:href=\"#DejaVuSans-89\"/>\r\n      </g>\r\n     </g>\r\n    </g>\r\n    <g id=\"ytick_4\">\r\n     <g id=\"line2d_8\">\r\n      <g>\r\n       <use style=\"stroke:#000000;stroke-width:0.8;\" x=\"21.05\" xlink:href=\"#m3d76b878c2\" y=\"212.578125\"/>\r\n      </g>\r\n     </g>\r\n     <g id=\"text_8\">\r\n      <!-- Z -->\r\n      <g transform=\"translate(7.2 216.377344)scale(0.1 -0.1)\">\r\n       <use xlink:href=\"#DejaVuSans-90\"/>\r\n      </g>\r\n     </g>\r\n    </g>\r\n   </g>\r\n   <g id=\"patch_3\">\r\n    <path d=\"M 21.05 239.758125 \r\nL 21.05 22.318125 \r\n\" style=\"fill:none;stroke:#000000;stroke-linecap:square;stroke-linejoin:miter;stroke-width:0.8;\"/>\r\n   </g>\r\n   <g id=\"patch_4\">\r\n    <path d=\"M 238.49 239.758125 \r\nL 238.49 22.318125 \r\n\" style=\"fill:none;stroke:#000000;stroke-linecap:square;stroke-linejoin:miter;stroke-width:0.8;\"/>\r\n   </g>\r\n   <g id=\"patch_5\">\r\n    <path d=\"M 21.05 239.758125 \r\nL 238.49 239.758125 \r\n\" style=\"fill:none;stroke:#000000;stroke-linecap:square;stroke-linejoin:miter;stroke-width:0.8;\"/>\r\n   </g>\r\n   <g id=\"patch_6\">\r\n    <path d=\"M 21.05 22.318125 \r\nL 238.49 22.318125 \r\n\" style=\"fill:none;stroke:#000000;stroke-linecap:square;stroke-linejoin:miter;stroke-width:0.8;\"/>\r\n   </g>\r\n   <g id=\"text_9\">\r\n    <!-- Title -->\r\n    <g transform=\"translate(116.915 16.318125)scale(0.12 -0.12)\">\r\n     <defs>\r\n      <path d=\"M -0.296875 72.90625 \r\nL 61.375 72.90625 \r\nL 61.375 64.59375 \r\nL 35.5 64.59375 \r\nL 35.5 0 \r\nL 25.59375 0 \r\nL 25.59375 64.59375 \r\nL -0.296875 64.59375 \r\nz\r\n\" id=\"DejaVuSans-84\"/>\r\n      <path d=\"M 9.421875 54.6875 \r\nL 18.40625 54.6875 \r\nL 18.40625 0 \r\nL 9.421875 0 \r\nz\r\nM 9.421875 75.984375 \r\nL 18.40625 75.984375 \r\nL 18.40625 64.59375 \r\nL 9.421875 64.59375 \r\nz\r\n\" id=\"DejaVuSans-105\"/>\r\n      <path d=\"M 18.3125 70.21875 \r\nL 18.3125 54.6875 \r\nL 36.8125 54.6875 \r\nL 36.8125 47.703125 \r\nL 18.3125 47.703125 \r\nL 18.3125 18.015625 \r\nQ 18.3125 11.328125 20.140625 9.421875 \r\nQ 21.96875 7.515625 27.59375 7.515625 \r\nL 36.8125 7.515625 \r\nL 36.8125 0 \r\nL 27.59375 0 \r\nQ 17.1875 0 13.234375 3.875 \r\nQ 9.28125 7.765625 9.28125 18.015625 \r\nL 9.28125 47.703125 \r\nL 2.6875 47.703125 \r\nL 2.6875 54.6875 \r\nL 9.28125 54.6875 \r\nL 9.28125 70.21875 \r\nz\r\n\" id=\"DejaVuSans-116\"/>\r\n      <path d=\"M 9.421875 75.984375 \r\nL 18.40625 75.984375 \r\nL 18.40625 0 \r\nL 9.421875 0 \r\nz\r\n\" id=\"DejaVuSans-108\"/>\r\n      <path d=\"M 56.203125 29.59375 \r\nL 56.203125 25.203125 \r\nL 14.890625 25.203125 \r\nQ 15.484375 15.921875 20.484375 11.0625 \r\nQ 25.484375 6.203125 34.421875 6.203125 \r\nQ 39.59375 6.203125 44.453125 7.46875 \r\nQ 49.3125 8.734375 54.109375 11.28125 \r\nL 54.109375 2.78125 \r\nQ 49.265625 0.734375 44.1875 -0.34375 \r\nQ 39.109375 -1.421875 33.890625 -1.421875 \r\nQ 20.796875 -1.421875 13.15625 6.1875 \r\nQ 5.515625 13.8125 5.515625 26.8125 \r\nQ 5.515625 40.234375 12.765625 48.109375 \r\nQ 20.015625 56 32.328125 56 \r\nQ 43.359375 56 49.78125 48.890625 \r\nQ 56.203125 41.796875 56.203125 29.59375 \r\nz\r\nM 47.21875 32.234375 \r\nQ 47.125 39.59375 43.09375 43.984375 \r\nQ 39.0625 48.390625 32.421875 48.390625 \r\nQ 24.90625 48.390625 20.390625 44.140625 \r\nQ 15.875 39.890625 15.1875 32.171875 \r\nz\r\n\" id=\"DejaVuSans-101\"/>\r\n     </defs>\r\n     <use xlink:href=\"#DejaVuSans-84\"/>\r\n     <use x=\"57.958984\" xlink:href=\"#DejaVuSans-105\"/>\r\n     <use x=\"85.742188\" xlink:href=\"#DejaVuSans-116\"/>\r\n     <use x=\"124.951172\" xlink:href=\"#DejaVuSans-108\"/>\r\n     <use x=\"152.734375\" xlink:href=\"#DejaVuSans-101\"/>\r\n    </g>\r\n   </g>\r\n  </g>\r\n </g>\r\n <defs>\r\n  <clipPath id=\"p177be42f16\">\r\n   <rect height=\"217.44\" width=\"217.44\" x=\"21.05\" y=\"22.318125\"/>\r\n  </clipPath>\r\n </defs>\r\n</svg>\r\n",
      "image/png": "[encoded data removed]"
     },
     "metadata": {
      "needs_background": "light"
     }
    }
   ],
   "source": [
    "plot_transfer_matrix(exp_inp_transfer_matrix,'Title')"
   ]
  }
 ],
 "metadata": {
  "kernelspec": {
   "display_name": "Python 3",
   "language": "python",
   "name": "python3"
  },
  "language_info": {
   "codemirror_mode": {
    "name": "ipython",
    "version": 3
   },
   "file_extension": ".py",
   "mimetype": "text/x-python",
   "name": "python",
   "nbconvert_exporter": "python",
   "pygments_lexer": "ipython3",
   "version": "3.8.5-final"
  }
 },
 "nbformat": 4,
 "nbformat_minor": 4
}